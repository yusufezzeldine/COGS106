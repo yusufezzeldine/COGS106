{
  "nbformat": 4,
  "nbformat_minor": 0,
  "metadata": {
    "colab": {
      "provenance": [],
      "include_colab_link": true
    },
    "kernelspec": {
      "name": "python3",
      "display_name": "Python 3"
    },
    "language_info": {
      "name": "python"
    }
  },
  "cells": [
    {
      "cell_type": "markdown",
      "metadata": {
        "id": "view-in-github",
        "colab_type": "text"
      },
      "source": [
        "<a href=\"https://colab.research.google.com/github/yusufezzeldine/COGS106/blob/main/COGS106_A2.ipynb\" target=\"_parent\"><img src=\"https://colab.research.google.com/assets/colab-badge.svg\" alt=\"Open In Colab\"/></a>"
      ]
    },
    {
      "cell_type": "code",
      "execution_count": 1,
      "metadata": {
        "id": "apcjC_vvhU4n"
      },
      "outputs": [],
      "source": [
        "import numpy\n",
        "from scipy.special import ndtri\n",
        "\n",
        "class SignalDetection:\n",
        "  def __init__(self,hit,miss,fa,cr):\n",
        "    # Define variables\n",
        "    self.hr = (hit / (hit + miss))\n",
        "    self.far = (fa / (fa + cr))\n",
        "  \n",
        "  def d_prime(self):\n",
        "    # Calculates the d-Prime value\n",
        "    return (ndtri(self.hr) - ndtri(self.far))\n",
        "  \n",
        "  def criterion(self):\n",
        "    # Calculates the Criterion value\n",
        "    return (-0.5 * (ndtri(self.hr) + ndtri(self.far)))"
      ]
    },
    {
      "cell_type": "code",
      "source": [
        "hit = 60\n",
        "miss = 15\n",
        "fa = 5\n",
        "cr = 20\n",
        "SD = SignalDetection(hit,miss,fa,cr)\n",
        "\n",
        "print(\"d'=\",SD.d_prime(),\"\\nCriterion =\",SD.criterion())"
      ],
      "metadata": {
        "colab": {
          "base_uri": "https://localhost:8080/"
        },
        "id": "VYfgPCzVmotj",
        "outputId": "61986e6e-7f64-4114-f84b-8c3fae948f03"
      },
      "execution_count": 2,
      "outputs": [
        {
          "output_type": "stream",
          "name": "stdout",
          "text": [
            "d'= 1.6832424671458286 \n",
            "Criterion = -5.551115123125783e-17\n"
          ]
        }
      ]
    },
    {
      "cell_type": "code",
      "source": [
        "## Test if we did it right\n",
        "\n",
        "import unittest\n",
        "import numpy as np\n",
        "import matplotlib.pyplot as plt\n",
        "\n",
        "class TestSignalDetection(unittest.TestCase):\n",
        "    def test_d_prime_zero(self):\n",
        "        sd   = SignalDetection(15, 5, 15, 5)\n",
        "        expected = 0\n",
        "        obtained = sd.d_prime()\n",
        "        # Compare calculated and expected d-prime\n",
        "        self.assertAlmostEqual(obtained, expected, places=6)\n",
        "    def test_d_prime_nonzero(self):\n",
        "        sd   = SignalDetection(15, 10, 15, 5)\n",
        "        expected = -0.421142647060282\n",
        "        obtained = sd.d_prime()\n",
        "        # Compare calculated and expected d-prime\n",
        "        self.assertAlmostEqual(obtained, expected, places=6)\n",
        "    def test_criterion_zero(self):\n",
        "        sd   = SignalDetection(5, 5, 5, 5)\n",
        "        # Calculate expected criterion        \n",
        "        expected = 0\n",
        "        obtained = sd.criterion()\n",
        "        # Compare calculated and expected criterion\n",
        "        self.assertAlmostEqual(obtained, expected, places=6)\n",
        "    def test_criterion_nonzero(self):\n",
        "        sd   = SignalDetection(15, 10, 15, 5)\n",
        "        # Calculate expected criterion        \n",
        "        expected = -0.463918426665941\n",
        "        obtained = sd.criterion()\n",
        "        # Compare calculated and expected criterion\n",
        "        self.assertAlmostEqual(obtained, expected, places=6)\n",
        "\n",
        "if __name__ == '__main__':\n",
        "    unittest.main(argv=['ignored'], exit=False)"
      ],
      "metadata": {
        "colab": {
          "base_uri": "https://localhost:8080/"
        },
        "id": "8mmNWCwzm-zC",
        "outputId": "3b2bd79d-ac05-498c-8594-90fb5162114b"
      },
      "execution_count": 3,
      "outputs": [
        {
          "output_type": "stream",
          "name": "stderr",
          "text": [
            "....\n",
            "----------------------------------------------------------------------\n",
            "Ran 4 tests in 0.063s\n",
            "\n",
            "OK\n"
          ]
        }
      ]
    }
  ]
}